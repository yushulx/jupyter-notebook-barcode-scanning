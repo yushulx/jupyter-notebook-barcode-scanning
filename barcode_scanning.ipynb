{
 "cells": [
  {
   "cell_type": "markdown",
   "id": "e4f2a6bd",
   "metadata": {},
   "source": [
    "## Installation"
   ]
  },
  {
   "cell_type": "code",
   "execution_count": 1,
   "id": "2fc1ab02",
   "metadata": {
    "scrolled": true
   },
   "outputs": [],
   "source": [
    "!pip install dbr opencv-python matplotlib"
   ]
  },
  {
   "cell_type": "markdown",
   "id": "c18f05e7",
   "metadata": {},
   "source": [
    "## Set a license key to activate Dynamsoft Barcode SDK"
   ]
  },
  {
   "cell_type": "markdown",
   "id": "49130381",
   "metadata": {},
   "source": [
    "[![](https://img.shields.io/badge/Get-30--day%20FREE%20Trial%20License-blue)](https://www.dynamsoft.com/customer/license/trialLicense/?product=dbr)"
   ]
  },
  {
   "cell_type": "code",
   "execution_count": 91,
   "id": "dea35fd8",
   "metadata": {},
   "outputs": [],
   "source": [
    "license_key = \"LICENSE-KEY\""
   ]
  },
  {
   "cell_type": "markdown",
   "id": "ffcaf90c",
   "metadata": {},
   "source": [
    "## Upload barcode images for recognition"
   ]
  },
  {
   "cell_type": "code",
   "execution_count": null,
   "id": "2695c348",
   "metadata": {},
   "outputs": [],
   "source": [
    "from ipywidgets import FileUpload\n",
    "import cv2 as cv\n",
    "import matplotlib.pyplot as plt\n",
    "import numpy as np\n",
    "from dbr import *\n",
    "import time\n",
    "\n",
    "reader = BarcodeReader()\n",
    "reader.init_license(license_key)\n",
    "\n",
    "def decode(frame):\n",
    "\n",
    "    before = time.time()\n",
    "    results = reader.decode_buffer(frame)\n",
    "    after = time.time()\n",
    "\n",
    "    COLOR_RED = (0,0,255)\n",
    "    thickness = 2\n",
    "    margin = 1\n",
    "    text_x = 10; text_y = 20\n",
    "    if results != None:\n",
    "        found = len(results)\n",
    "        for result in results:\n",
    "            print(\"Format: %s, Text: %s\" % (result.barcode_format_string, result.barcode_text))\n",
    "            text = result.barcode_text \n",
    "            points = result.localization_result.localization_points\n",
    "            data = np.array([[points[0][0], points[0][1]], [points[1][0], points[1][1]], [points[2][0], points[2][1]], [points[3][0], points[3][1]]])\n",
    "            cv.drawContours(image=frame, contours=[data], contourIdx=-1, color=COLOR_RED, thickness=thickness, lineType=cv.LINE_AA)\n",
    "#             cv.putText(frame, result.barcode_text, (np.min(data[:,0]) - margin, np.min(data[:,1]) - margin), cv.FONT_HERSHEY_SIMPLEX, 0.5, COLOR_RED)\n",
    "\n",
    "        cv.putText(frame, '%.2f s, barcode found: %d' % (after - before, found), (text_x, text_y), cv.FONT_HERSHEY_SIMPLEX, 0.5, COLOR_RED)\n",
    "    else:\n",
    "        cv.putText(frame, '%.2f s, barcode found: %d' % (after - before, 0), (text_x, text_y), cv.FONT_HERSHEY_SIMPLEX, 0.5, COLOR_RED)\n",
    "        \n",
    "\n",
    "def show_image(img1, img2):\n",
    "  fig = plt.figure(figsize=(25, 10))\n",
    "  ax1 = fig.add_subplot(1, 2, 1) \n",
    "  plt.title('Input image', fontsize=16)\n",
    "  ax1.axis('off')\n",
    "  ax2 = fig.add_subplot(1, 2, 2)\n",
    "  plt.title('Barcode Recognition', fontsize=16)\n",
    "  ax2.axis('off')\n",
    "  ax1.imshow(img1)\n",
    "  ax2.imshow(img2)\n",
    "\n",
    "def on_upload_change(change):\n",
    "    if not change.new:\n",
    "        return\n",
    "    up = change.owner\n",
    "    for _, data in up.value.items():\n",
    "        image_buffer = np.frombuffer(data['content'], dtype=np.uint8)\n",
    "        img = cv.imdecode(image_buffer, 1)\n",
    "        \n",
    "        new_img = img.copy()\n",
    "        # barcode recognition\n",
    "        decode(new_img)\n",
    "        \n",
    "        img = cv.cvtColor(img, cv.COLOR_BGR2RGB)\n",
    "        new_img = cv.cvtColor(new_img, cv.COLOR_BGR2RGB)\n",
    "        show_image(img, new_img)\n",
    "\n",
    "    up.value.clear()\n",
    "\n",
    "uploader = FileUpload(accept='image/*', multiple=False)\n",
    "uploader.observe(on_upload_change)\n",
    "uploader"
   ]
  }
 ],
 "metadata": {
  "kernelspec": {
   "display_name": "Python 3 (ipykernel)",
   "language": "python",
   "name": "python3"
  },
  "language_info": {
   "codemirror_mode": {
    "name": "ipython",
    "version": 3
   },
   "file_extension": ".py",
   "mimetype": "text/x-python",
   "name": "python",
   "nbconvert_exporter": "python",
   "pygments_lexer": "ipython3",
   "version": "3.9.7"
  }
 },
 "nbformat": 4,
 "nbformat_minor": 5
}
